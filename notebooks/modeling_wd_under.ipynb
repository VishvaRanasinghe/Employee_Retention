{
 "cells": [
  {
   "cell_type": "code",
   "execution_count": 1,
   "metadata": {},
   "outputs": [],
   "source": [
    "import numpy as np\n",
    "import pandas as pd\n",
    "import seaborn as sns\n",
    "import matplotlib.pyplot as plt\n",
    "%matplotlib inline"
   ]
  },
  {
   "cell_type": "code",
   "execution_count": 2,
   "metadata": {},
   "outputs": [
    {
     "data": {
      "text/html": [
       "<div>\n",
       "<style scoped>\n",
       "    .dataframe tbody tr th:only-of-type {\n",
       "        vertical-align: middle;\n",
       "    }\n",
       "\n",
       "    .dataframe tbody tr th {\n",
       "        vertical-align: top;\n",
       "    }\n",
       "\n",
       "    .dataframe thead th {\n",
       "        text-align: right;\n",
       "    }\n",
       "</style>\n",
       "<table border=\"1\" class=\"dataframe\">\n",
       "  <thead>\n",
       "    <tr style=\"text-align: right;\">\n",
       "      <th></th>\n",
       "      <th>city_development_index</th>\n",
       "      <th>relevent_experience</th>\n",
       "      <th>education_level</th>\n",
       "      <th>experience</th>\n",
       "      <th>last_new_job</th>\n",
       "      <th>target</th>\n",
       "    </tr>\n",
       "  </thead>\n",
       "  <tbody>\n",
       "    <tr>\n",
       "      <th>0</th>\n",
       "      <td>0.920</td>\n",
       "      <td>1</td>\n",
       "      <td>2.0</td>\n",
       "      <td>0.0</td>\n",
       "      <td>1.0</td>\n",
       "      <td>1</td>\n",
       "    </tr>\n",
       "    <tr>\n",
       "      <th>1</th>\n",
       "      <td>0.776</td>\n",
       "      <td>0</td>\n",
       "      <td>2.0</td>\n",
       "      <td>0.0</td>\n",
       "      <td>5.0</td>\n",
       "      <td>0</td>\n",
       "    </tr>\n",
       "    <tr>\n",
       "      <th>2</th>\n",
       "      <td>0.624</td>\n",
       "      <td>0</td>\n",
       "      <td>2.0</td>\n",
       "      <td>0.0</td>\n",
       "      <td>0.0</td>\n",
       "      <td>0</td>\n",
       "    </tr>\n",
       "    <tr>\n",
       "      <th>3</th>\n",
       "      <td>0.789</td>\n",
       "      <td>0</td>\n",
       "      <td>2.0</td>\n",
       "      <td>0.0</td>\n",
       "      <td>0.0</td>\n",
       "      <td>1</td>\n",
       "    </tr>\n",
       "    <tr>\n",
       "      <th>4</th>\n",
       "      <td>0.767</td>\n",
       "      <td>1</td>\n",
       "      <td>2.0</td>\n",
       "      <td>0.0</td>\n",
       "      <td>4.0</td>\n",
       "      <td>0</td>\n",
       "    </tr>\n",
       "    <tr>\n",
       "      <th>...</th>\n",
       "      <td>...</td>\n",
       "      <td>...</td>\n",
       "      <td>...</td>\n",
       "      <td>...</td>\n",
       "      <td>...</td>\n",
       "      <td>...</td>\n",
       "    </tr>\n",
       "    <tr>\n",
       "      <th>19153</th>\n",
       "      <td>0.878</td>\n",
       "      <td>0</td>\n",
       "      <td>2.0</td>\n",
       "      <td>0.0</td>\n",
       "      <td>1.0</td>\n",
       "      <td>1</td>\n",
       "    </tr>\n",
       "    <tr>\n",
       "      <th>19154</th>\n",
       "      <td>0.920</td>\n",
       "      <td>1</td>\n",
       "      <td>2.0</td>\n",
       "      <td>0.0</td>\n",
       "      <td>4.0</td>\n",
       "      <td>1</td>\n",
       "    </tr>\n",
       "    <tr>\n",
       "      <th>19155</th>\n",
       "      <td>0.920</td>\n",
       "      <td>1</td>\n",
       "      <td>2.0</td>\n",
       "      <td>0.0</td>\n",
       "      <td>4.0</td>\n",
       "      <td>0</td>\n",
       "    </tr>\n",
       "    <tr>\n",
       "      <th>19156</th>\n",
       "      <td>0.802</td>\n",
       "      <td>1</td>\n",
       "      <td>2.0</td>\n",
       "      <td>0.0</td>\n",
       "      <td>2.0</td>\n",
       "      <td>0</td>\n",
       "    </tr>\n",
       "    <tr>\n",
       "      <th>19157</th>\n",
       "      <td>0.855</td>\n",
       "      <td>0</td>\n",
       "      <td>2.0</td>\n",
       "      <td>0.0</td>\n",
       "      <td>1.0</td>\n",
       "      <td>0</td>\n",
       "    </tr>\n",
       "  </tbody>\n",
       "</table>\n",
       "<p>19158 rows × 6 columns</p>\n",
       "</div>"
      ],
      "text/plain": [
       "       city_development_index  relevent_experience  education_level  \\\n",
       "0                       0.920                    1              2.0   \n",
       "1                       0.776                    0              2.0   \n",
       "2                       0.624                    0              2.0   \n",
       "3                       0.789                    0              2.0   \n",
       "4                       0.767                    1              2.0   \n",
       "...                       ...                  ...              ...   \n",
       "19153                   0.878                    0              2.0   \n",
       "19154                   0.920                    1              2.0   \n",
       "19155                   0.920                    1              2.0   \n",
       "19156                   0.802                    1              2.0   \n",
       "19157                   0.855                    0              2.0   \n",
       "\n",
       "       experience  last_new_job  target  \n",
       "0             0.0           1.0       1  \n",
       "1             0.0           5.0       0  \n",
       "2             0.0           0.0       0  \n",
       "3             0.0           0.0       1  \n",
       "4             0.0           4.0       0  \n",
       "...           ...           ...     ...  \n",
       "19153         0.0           1.0       1  \n",
       "19154         0.0           4.0       1  \n",
       "19155         0.0           4.0       0  \n",
       "19156         0.0           2.0       0  \n",
       "19157         0.0           1.0       0  \n",
       "\n",
       "[19158 rows x 6 columns]"
      ]
     },
     "execution_count": 2,
     "metadata": {},
     "output_type": "execute_result"
    }
   ],
   "source": [
    "Url = 'https://raw.githubusercontent.com/IT22106360/QuantaML-FDM-Employee-Retention/refs/heads/main/artifacts/preprocessed_dataset.csv'\n",
    "imbl_dataset = pd.read_csv(Url, encoding='latin-1')\n",
    "imbl_dataset"
   ]
  },
  {
   "cell_type": "code",
   "execution_count": 3,
   "metadata": {},
   "outputs": [],
   "source": [
    "X = imbl_dataset.drop('target', axis=1)  # Features\n",
    "y = imbl_dataset['target']  # target variable"
   ]
  },
  {
   "cell_type": "code",
   "execution_count": 4,
   "metadata": {},
   "outputs": [
    {
     "data": {
      "text/plain": [
       "(19158,)"
      ]
     },
     "execution_count": 4,
     "metadata": {},
     "output_type": "execute_result"
    }
   ],
   "source": [
    "X.shape\n",
    "y.shape"
   ]
  },
  {
   "cell_type": "code",
   "execution_count": 5,
   "metadata": {},
   "outputs": [
    {
     "data": {
      "text/plain": [
       "target\n",
       "0    14381\n",
       "1     4777\n",
       "Name: count, dtype: int64"
      ]
     },
     "execution_count": 5,
     "metadata": {},
     "output_type": "execute_result"
    }
   ],
   "source": [
    "y.value_counts()"
   ]
  },
  {
   "cell_type": "markdown",
   "metadata": {},
   "source": [
    "Class imbalance handling\n",
    "-------------------------"
   ]
  },
  {
   "cell_type": "code",
   "execution_count": 6,
   "metadata": {},
   "outputs": [],
   "source": [
    "from imblearn.under_sampling import NearMiss"
   ]
  },
  {
   "cell_type": "code",
   "execution_count": 7,
   "metadata": {},
   "outputs": [
    {
     "name": "stdout",
     "output_type": "stream",
     "text": [
      "Shape of X: (9554, 5)\n",
      "Shape of y: (9554,)\n"
     ]
    }
   ],
   "source": [
    "nearmiss = NearMiss(sampling_strategy='majority')\n",
    "\n",
    "# Fit the NearMiss object to the dataset for undersampling\n",
    "X, y = nearmiss.fit_resample(imbl_dataset.loc[:, imbl_dataset.columns != 'target'], imbl_dataset['target'])\n",
    "\n",
    "# Output the new shape of X and y after undersampling\n",
    "print(\"Shape of X: {}\".format(X.shape))\n",
    "print(\"Shape of y: {}\".format(y.shape))"
   ]
  },
  {
   "cell_type": "code",
   "execution_count": 8,
   "metadata": {},
   "outputs": [
    {
     "name": "stdout",
     "output_type": "stream",
     "text": [
      "8943\n"
     ]
    }
   ],
   "source": [
    "print(X.duplicated().sum())"
   ]
  },
  {
   "cell_type": "code",
   "execution_count": 9,
   "metadata": {},
   "outputs": [
    {
     "data": {
      "image/png": "[encoded data removed]",
      "text/plain": [
       "<Figure size 640x480 with 1 Axes>"
      ]
     },
     "metadata": {},
     "output_type": "display_data"
    },
    {
     "name": "stdout",
     "output_type": "stream",
     "text": [
      "# samples associated with not leaving: 4777\n",
      "# samples associated with leaving: 4777\n"
     ]
    }
   ],
   "source": [
    "_, class_counts = np.unique(y, return_counts=True)\n",
    "classes = ['Staying', 'Leaving']\n",
    "fig, ax = plt.subplots()\n",
    "ax.pie(class_counts, labels=classes, autopct='%1.2f%%',\n",
    "        shadow=True, startangle=90, counterclock=False)\n",
    "ax.axis('equal')  # Equal aspect ratio ensures that pie is drawn as a circle.\n",
    "ax.set_title('Class distribution')\n",
    "plt.show()\n",
    "print(\"# samples associated with not leaving: {}\".format(class_counts[0]))\n",
    "print(\"# samples associated with leaving: {}\".format(class_counts[1]))"
   ]
  },
  {
   "cell_type": "markdown",
   "metadata": {},
   "source": [
    "Modeling"
   ]
  },
  {
   "cell_type": "code",
   "execution_count": 10,
   "metadata": {},
   "outputs": [],
   "source": [
    "from sklearn.model_selection import train_test_split\n",
    "from sklearn.preprocessing import StandardScaler\n",
    "from sklearn.metrics import accuracy_score, precision_score, recall_score, f1_score, roc_auc_score, confusion_matrix\n",
    "from sklearn.model_selection import GridSearchCV"
   ]
  },
  {
   "cell_type": "code",
   "execution_count": 11,
   "metadata": {},
   "outputs": [],
   "source": [
    "def modeler(model, X, y, param_grid=None):\n",
    "    x_train, x_test, y_train, y_test = train_test_split(X, y, test_size=0.25, random_state=100)\n",
    "\n",
    "    scaler = StandardScaler()\n",
    "    x_train = scaler.fit_transform(x_train)\n",
    "    x_test = scaler.transform(x_test)\n",
    "\n",
    "    if param_grid:\n",
    "        # Use GridSearchCV to find the best hyperparameters\n",
    "        grid_search = GridSearchCV(estimator=model, param_grid=param_grid, scoring='accuracy', cv=5, n_jobs=-1)\n",
    "        grid_search.fit(x_train, y_train)\n",
    "        model = grid_search.best_estimator_  # Get the best model\n",
    "        print(\"Best Parameters: \", grid_search.best_params_)\n",
    "\n",
    "    # Model training and prediction\n",
    "    model.fit(x_train, y_train)\n",
    "    y_pred = model.predict(x_test)\n",
    "\n",
    "    # Metrics calculation\n",
    "    acc = accuracy_score(y_test, y_pred)\n",
    "    prec = precision_score(y_test, y_pred)\n",
    "    rec = recall_score(y_test, y_pred)\n",
    "    f1 = f1_score(y_test, y_pred)\n",
    "    auc = roc_auc_score(y_test, y_pred)\n",
    "\n",
    "    sns.heatmap(confusion_matrix(y_test, y_pred), annot=True, fmt=\"g\")\n",
    "    plt.xlabel(\"Predicted\")\n",
    "    plt.ylabel(\"Actual\")\n",
    "    plt.show()\n",
    "\n",
    "    return {'acc': acc, 'prec': prec, 'rec': rec, 'f1': f1, 'auc': auc}\n"
   ]
  },
  {
   "cell_type": "code",
   "execution_count": null,
   "metadata": {},
   "outputs": [],
   "source": []
  },
  {
   "cell_type": "markdown",
   "metadata": {},
   "source": [
    "Decision Tree Classifire - Rashmika"
   ]
  },
  {
   "cell_type": "code",
   "execution_count": 12,
   "metadata": {},
   "outputs": [
    {
     "name": "stdout",
     "output_type": "stream",
     "text": [
      "Best Parameters:  {'criterion': 'entropy', 'max_depth': 20, 'max_features': 'log2', 'min_samples_split': 2}\n"
     ]
    },
    {
     "name": "stderr",
     "output_type": "stream",
     "text": [
      "c:\\Y3S1_My\\New\\FDM\\Project\\Project\\QuantaML-FDM-Employee-Retention\\env\\Lib\\site-packages\\sklearn\\model_selection\\_validation.py:540: FitFailedWarning: \n",
      "120 fits failed out of a total of 360.\n",
      "The score on these train-test partitions for these parameters will be set to nan.\n",
      "If these failures are not expected, you can try to debug them by setting error_score='raise'.\n",
      "\n",
      "Below are more details about the failures:\n",
      "--------------------------------------------------------------------------------\n",
      "67 fits failed with the following error:\n",
      "Traceback (most recent call last):\n",
      "  File \"c:\\Y3S1_My\\New\\FDM\\Project\\Project\\QuantaML-FDM-Employee-Retention\\env\\Lib\\site-packages\\sklearn\\model_selection\\_validation.py\", line 888, in _fit_and_score\n",
      "    estimator.fit(X_train, y_train, **fit_params)\n",
      "  File \"c:\\Y3S1_My\\New\\FDM\\Project\\Project\\QuantaML-FDM-Employee-Retention\\env\\Lib\\site-packages\\sklearn\\base.py\", line 1466, in wrapper\n",
      "    estimator._validate_params()\n",
      "  File \"c:\\Y3S1_My\\New\\FDM\\Project\\Project\\QuantaML-FDM-Employee-Retention\\env\\Lib\\site-packages\\sklearn\\base.py\", line 666, in _validate_params\n",
      "    validate_parameter_constraints(\n",
      "  File \"c:\\Y3S1_My\\New\\FDM\\Project\\Project\\QuantaML-FDM-Employee-Retention\\env\\Lib\\site-packages\\sklearn\\utils\\_param_validation.py\", line 95, in validate_parameter_constraints\n",
      "    raise InvalidParameterError(\n",
      "sklearn.utils._param_validation.InvalidParameterError: The 'max_features' parameter of DecisionTreeClassifier must be an int in the range [1, inf), a float in the range (0.0, 1.0], a str among {'log2', 'sqrt'} or None. Got 'auto' instead.\n",
      "\n",
      "--------------------------------------------------------------------------------\n",
      "53 fits failed with the following error:\n",
      "Traceback (most recent call last):\n",
      "  File \"c:\\Y3S1_My\\New\\FDM\\Project\\Project\\QuantaML-FDM-Employee-Retention\\env\\Lib\\site-packages\\sklearn\\model_selection\\_validation.py\", line 888, in _fit_and_score\n",
      "    estimator.fit(X_train, y_train, **fit_params)\n",
      "  File \"c:\\Y3S1_My\\New\\FDM\\Project\\Project\\QuantaML-FDM-Employee-Retention\\env\\Lib\\site-packages\\sklearn\\base.py\", line 1466, in wrapper\n",
      "    estimator._validate_params()\n",
      "  File \"c:\\Y3S1_My\\New\\FDM\\Project\\Project\\QuantaML-FDM-Employee-Retention\\env\\Lib\\site-packages\\sklearn\\base.py\", line 666, in _validate_params\n",
      "    validate_parameter_constraints(\n",
      "  File \"c:\\Y3S1_My\\New\\FDM\\Project\\Project\\QuantaML-FDM-Employee-Retention\\env\\Lib\\site-packages\\sklearn\\utils\\_param_validation.py\", line 95, in validate_parameter_constraints\n",
      "    raise InvalidParameterError(\n",
      "sklearn.utils._param_validation.InvalidParameterError: The 'max_features' parameter of DecisionTreeClassifier must be an int in the range [1, inf), a float in the range (0.0, 1.0], a str among {'sqrt', 'log2'} or None. Got 'auto' instead.\n",
      "\n",
      "  warnings.warn(some_fits_failed_message, FitFailedWarning)\n",
      "c:\\Y3S1_My\\New\\FDM\\Project\\Project\\QuantaML-FDM-Employee-Retention\\env\\Lib\\site-packages\\sklearn\\model_selection\\_search.py:1103: UserWarning: One or more of the test scores are non-finite: [       nan        nan        nan 0.67662247 0.69560363 0.69267271\n",
      " 0.69420796 0.68904396 0.68736916        nan        nan        nan\n",
      " 0.69797627 0.69895324 0.69895324 0.69937195 0.69672017 0.69755757\n",
      "        nan        nan        nan 0.69937195 0.69853454 0.69769714\n",
      " 0.69923238 0.69755757 0.69965108        nan        nan        nan\n",
      " 0.69937195 0.69909281 0.69923238 0.70034892 0.69979065 0.69769714\n",
      "        nan        nan        nan 0.67020237 0.67508723 0.69323098\n",
      " 0.69588276 0.69141661 0.68136776        nan        nan        nan\n",
      " 0.6965806  0.69588276 0.69769714 0.6965806  0.69588276 0.6965806\n",
      "        nan        nan        nan 0.69923238 0.69783671 0.6965806\n",
      " 0.69993022 0.69811584 0.69881368        nan        nan        nan\n",
      " 0.69951151 0.69895324 0.69839498 0.70048849 0.69951151 0.69993022]\n",
      "  warnings.warn(\n"
     ]
    },
    {
     "data": {
      "image/png": "[encoded data removed]",
      "text/plain": [
       "<Figure size 640x480 with 2 Axes>"
      ]
     },
     "metadata": {},
     "output_type": "display_data"
    },
    {
     "name": "stdout",
     "output_type": "stream",
     "text": [
      "Accuracy: 0.7044788614483047\n",
      "Precision: 0.7494887525562373\n",
      "Recall: 0.6139028475711893\n",
      "F1 Score: 0.6749539594843462\n",
      "Area Under Curve: 0.7044409635345485\n"
     ]
    }
   ],
   "source": [
    "\n",
    "from sklearn.tree import DecisionTreeClassifier\n",
    "\n",
    "param_grid_DT = {\n",
    "    'criterion': ['gini', 'entropy'],\n",
    "    'max_depth': [5, 10, 15, 20],\n",
    "    'min_samples_split': [2, 5, 10],\n",
    "    'max_features': ['auto', 'sqrt', 'log2']\n",
    "}\n",
    "\n",
    "DT = DecisionTreeClassifier()\n",
    "DT_Test = modeler(DT, X, y, param_grid=param_grid_DT)\n",
    "\n",
    "print('Accuracy:',DT_Test['acc'])\n",
    "print('Precision:', DT_Test['prec'])\n",
    "print('Recall:', DT_Test['rec'])\n",
    "print('F1 Score:', DT_Test['f1'])\n",
    "print('Area Under Curve:', DT_Test['auc'])  "
   ]
  },
  {
   "cell_type": "markdown",
   "metadata": {},
   "source": [
    "Random Forrest Classifire - Sakuni"
   ]
  },
  {
   "cell_type": "code",
   "execution_count": 13,
   "metadata": {},
   "outputs": [
    {
     "name": "stdout",
     "output_type": "stream",
     "text": [
      "Best Parameters:  {'bootstrap': False, 'max_depth': 10, 'min_samples_leaf': 1, 'min_samples_split': 2, 'n_estimators': 200}\n"
     ]
    },
    {
     "data": {
      "image/png": "[encoded data removed]",
      "text/plain": [
       "<Figure size 640x480 with 2 Axes>"
      ]
     },
     "metadata": {},
     "output_type": "display_data"
    },
    {
     "name": "stdout",
     "output_type": "stream",
     "text": [
      "Accuracy: 0.69485140226036\n",
      "Precision: 0.7174929840972872\n",
      "Recall: 0.6423785594639866\n",
      "F1 Score: 0.6778612461334512\n",
      "Area Under Curve: 0.6948294470960099\n"
     ]
    }
   ],
   "source": [
    "\n",
    "from sklearn.ensemble import RandomForestClassifier\n",
    "\n",
    "param_grid_RF = {\n",
    "    'n_estimators': [100, 200, 300],\n",
    "    'max_depth': [10, 20, 30],\n",
    "    'min_samples_split': [2, 5],\n",
    "    'min_samples_leaf': [1, 2],\n",
    "    'bootstrap': [True, False]\n",
    "}\n",
    "\n",
    "RF = RandomForestClassifier()\n",
    "\n",
    "RF_Test = modeler(RF, X, y, param_grid=param_grid_RF)\n",
    "\n",
    "print('Accuracy:',RF_Test['acc'])\n",
    "print('Precision:', RF_Test['prec'])\n",
    "print('Recall:', RF_Test['rec'])\n",
    "print('F1 Score:', RF_Test['f1'])\n",
    "print('Area Under Curve:', RF_Test['auc'])\n"
   ]
  },
  {
   "cell_type": "markdown",
   "metadata": {},
   "source": [
    "Gaussian NB - Tehan"
   ]
  },
  {
   "cell_type": "code",
   "execution_count": 14,
   "metadata": {},
   "outputs": [
    {
     "name": "stdout",
     "output_type": "stream",
     "text": [
      "Best Parameters:  {'priors': array([0.5, 0.5]), 'var_smoothing': np.float64(0.43287612810830584)}\n"
     ]
    },
    {
     "data": {
      "image/png": "[encoded data removed]",
      "text/plain": [
       "<Figure size 640x480 with 2 Axes>"
      ]
     },
     "metadata": {},
     "output_type": "display_data"
    },
    {
     "name": "stdout",
     "output_type": "stream",
     "text": [
      "Accuracy: 0.513604018417748\n",
      "Precision: 0.7857142857142857\n",
      "Recall: 0.03685092127303183\n",
      "F1 Score: 0.0704\n",
      "Area Under Curve: 0.5134045401344239\n"
     ]
    }
   ],
   "source": [
    "from sklearn.naive_bayes import GaussianNB\n",
    "\n",
    "# Adjust the priors based on the number of classes in your target variable y\n",
    "num_classes = len(np.unique(y))  # Get the number of unique classes\n",
    "priors = np.full(num_classes, 1 / num_classes)  # Create equal priors for each class\n",
    "\n",
    "param_grid_NB = {\n",
    "    'var_smoothing': np.logspace(0, -9, num=100),\n",
    "    'priors': [priors]  # Ensure this is an array-like structure\n",
    "}\n",
    "\n",
    "NB = GaussianNB()\n",
    "NB_Test = modeler(NB, X, y, param_grid=param_grid_NB)\n",
    "\n",
    "print('Accuracy:', NB_Test['acc'])\n",
    "print('Precision:', NB_Test['prec'])\n",
    "print('Recall:', NB_Test['rec'])\n",
    "print('F1 Score:', NB_Test['f1'])\n",
    "print('Area Under Curve:', NB_Test['auc'])"
   ]
  },
  {
   "cell_type": "markdown",
   "metadata": {},
   "source": [
    "Support Vector Machine - Nithil"
   ]
  },
  {
   "cell_type": "code",
   "execution_count": 15,
   "metadata": {},
   "outputs": [
    {
     "name": "stdout",
     "output_type": "stream",
     "text": [
      "Best Parameters:  {'C': 1, 'gamma': 'auto', 'kernel': 'rbf'}\n"
     ]
    },
    {
     "data": {
      "image/png": "[encoded data removed]",
      "text/plain": [
       "<Figure size 640x480 with 2 Axes>"
      ]
     },
     "metadata": {},
     "output_type": "display_data"
    },
    {
     "name": "stdout",
     "output_type": "stream",
     "text": [
      "Accuracy: 0.6709920468815403\n",
      "Precision: 0.674061433447099\n",
      "Recall: 0.661641541038526\n",
      "F1 Score: 0.6677937447168216\n",
      "Area Under Curve: 0.6709881345359994\n"
     ]
    }
   ],
   "source": [
    "from sklearn.svm import SVC\n",
    "\n",
    "param_grid_SVM = {\n",
    "    'C': [0.1, 1, 10],\n",
    "    'kernel': ['rbf', 'linear'],\n",
    "    'gamma': ['scale', 'auto']\n",
    "}\n",
    "\n",
    "SVM = SVC()\n",
    "\n",
    "SVM_Test = modeler(SVM, X, y, param_grid=param_grid_SVM)\n",
    "\n",
    "print('Accuracy:',SVM_Test['acc'])\n",
    "print('Precision:', SVM_Test['prec'])\n",
    "print('Recall:', SVM_Test['rec'])\n",
    "print('F1 Score:', SVM_Test['f1'])\n",
    "print('Area Under Curve:', SVM_Test['auc'])\n"
   ]
  },
  {
   "cell_type": "markdown",
   "metadata": {},
   "source": [
    "Logistic Regression - Vishva"
   ]
  },
  {
   "cell_type": "code",
   "execution_count": 16,
   "metadata": {},
   "outputs": [
    {
     "name": "stdout",
     "output_type": "stream",
     "text": [
      "Best Parameters:  {'C': 0.1, 'max_iter': 100, 'solver': 'newton-cg'}\n"
     ]
    },
    {
     "data": {
      "image/png": "[encoded data removed]",
      "text/plain": [
       "<Figure size 640x480 with 2 Axes>"
      ]
     },
     "metadata": {},
     "output_type": "display_data"
    },
    {
     "name": "stdout",
     "output_type": "stream",
     "text": [
      "Accuracy: 0.6709920468815403\n",
      "Precision: 0.674061433447099\n",
      "Recall: 0.661641541038526\n",
      "F1 Score: 0.6677937447168216\n",
      "Area Under Curve: 0.6709881345359994\n"
     ]
    }
   ],
   "source": [
    "from sklearn.linear_model import LogisticRegression\n",
    "LR = LogisticRegression()\n",
    "\n",
    "param_grid_LR = {\n",
    "    'C': [0.01, 0.1, 1, 10],\n",
    "    'solver': ['newton-cg', 'lbfgs', 'liblinear'],\n",
    "    'max_iter': [100, 200, 300, 400]  # Adding max_iter options\n",
    "}\n",
    "\n",
    "LR_Test = modeler(LR, X, y, param_grid=param_grid_LR)\n",
    "\n",
    "print('Accuracy:',SVM_Test['acc'])\n",
    "print('Precision:', SVM_Test['prec'])\n",
    "print('Recall:', SVM_Test['rec'])\n",
    "print('F1 Score:', SVM_Test['f1'])\n",
    "print('Area Under Curve:', SVM_Test['auc'])\n"
   ]
  }
 ],
 "metadata": {
  "kernelspec": {
   "display_name": "env",
   "language": "python",
   "name": "python3"
  },
  "language_info": {
   "codemirror_mode": {
    "name": "ipython",
    "version": 3
   },
   "file_extension": ".py",
   "mimetype": "text/x-python",
   "name": "python",
   "nbconvert_exporter": "python",
   "pygments_lexer": "ipython3",
   "version": "3.12.4"
  }
 },
 "nbformat": 4,
 "nbformat_minor": 2
}
