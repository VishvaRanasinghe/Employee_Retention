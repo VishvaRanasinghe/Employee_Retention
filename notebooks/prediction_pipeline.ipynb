{
 "cells": [
  {
   "cell_type": "code",
   "execution_count": 31,
   "metadata": {},
   "outputs": [],
   "source": [
    "import pickle \n",
    "import numpy as np \n",
    "import pandas as pd"
   ]
  },
  {
   "cell_type": "code",
   "execution_count": 32,
   "metadata": {},
   "outputs": [],
   "source": [
    "import pickle\n",
    "\n",
    "# Load the model from the file\n",
    "with open('../static/model/selected_model.pkl', 'rb') as file:\n",
    "    model = pickle.load(file)"
   ]
  },
  {
   "cell_type": "code",
   "execution_count": 46,
   "metadata": {},
   "outputs": [],
   "source": [
    "city_development_index = 0.789\n",
    "relevent_experience = 'No'\n",
    "education_level = 'Graduate'\n",
    "experience = 0\n",
    "last_new_job_gap = 0"
   ]
  },
  {
   "cell_type": "code",
   "execution_count": 47,
   "metadata": {},
   "outputs": [],
   "source": [
    "#encoding\n",
    "def rel_experience(x):\n",
    "    if x=='Yes': return 1\n",
    "    if x=='No':   return 0\n",
    "\n",
    "def edu_level(x):\n",
    "    if x=='Graduate'       :   return 0\n",
    "    if x=='Masters'        :   return 1\n",
    "    if x=='High School'    :   return 2\n",
    "    if x=='Phd'            :   return 3\n",
    "    if x=='Primary School' :   return 4\n"
   ]
  },
  {
   "cell_type": "code",
   "execution_count": 48,
   "metadata": {},
   "outputs": [],
   "source": [
    "rel_ex = rel_experience(relevent_experience)\n",
    "edu_l = edu_level(education_level)"
   ]
  },
  {
   "cell_type": "code",
   "execution_count": 49,
   "metadata": {},
   "outputs": [],
   "source": [
    "input_features = np.array([[\n",
    "            city_development_index,\n",
    "            rel_ex,\n",
    "            edu_l,\n",
    "            experience,\n",
    "            last_new_job_gap\n",
    "        ]])"
   ]
  },
  {
   "cell_type": "code",
   "execution_count": 50,
   "metadata": {},
   "outputs": [],
   "source": [
    "prediction = model.predict_proba(input_features)\n",
    "output = round(prediction[0][1], 2)\n",
    "\n",
    "binary_prediction = 1 if output >= 0.5 else 0"
   ]
  },
  {
   "cell_type": "code",
   "execution_count": 51,
   "metadata": {},
   "outputs": [
    {
     "data": {
      "text/plain": [
       "0"
      ]
     },
     "execution_count": 51,
     "metadata": {},
     "output_type": "execute_result"
    }
   ],
   "source": [
    "binary_prediction"
   ]
  }
 ],
 "metadata": {
  "kernelspec": {
   "display_name": "env",
   "language": "python",
   "name": "python3"
  },
  "language_info": {
   "codemirror_mode": {
    "name": "ipython",
    "version": 3
   },
   "file_extension": ".py",
   "mimetype": "text/x-python",
   "name": "python",
   "nbconvert_exporter": "python",
   "pygments_lexer": "ipython3",
   "version": "3.12.4"
  }
 },
 "nbformat": 4,
 "nbformat_minor": 2
}
